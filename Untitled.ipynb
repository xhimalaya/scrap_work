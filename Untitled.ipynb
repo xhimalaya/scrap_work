{
 "cells": [
  {
   "cell_type": "markdown",
   "metadata": {},
   "source": [
    "from SW import manuscript\n",
    "from scipy.interpolate import interp1d\n",
    "import numpy as np\n",
    "inp = input(\"Enter Char : \")\n",
    "x1, y1 = manuscript.return_manuscript_fonts(inp)\n",
    "f = interp1d(x1, y1)\n",
    "xnew = np.linspace(0, 10, num=41, endpoint=True)\n",
    "import matplotlib.pyplot as plt\n",
    "plt.plot(x, y, 'o', xnew, f(xnew), '-', xnew,'--')\n",
    "plt.show()\n"
   ]
  },
  {
   "cell_type": "markdown",
   "metadata": {
    "scrolled": false
   },
   "source": [
    "from math import *\n",
    "NT = float\n",
    "from SW import manuscript\n",
    "import matplotlib.pyplot as plt\n",
    "import numpy as np\n",
    "import pandas as pd\n",
    "import cur\n",
    "plt.figure(figsize=[5,5])\n",
    "\n",
    "# class Point\n",
    "class Point:\n",
    "    def __init__(self, x = 0.0, y = 0.0):\n",
    "        self.x = x\n",
    "        self.y = y\n",
    "    \n",
    "    def distance(self, p):\n",
    "        return sqrt((p.x-self.x)*(p.x-self.x)+(p.y-self.y)*(p.y-self.y))\n",
    "\n",
    "    def length(self):\n",
    "        return self.distance(Point(NT(0), NT(0)))\n",
    "\n",
    "    def __sub__(self, p):\n",
    "        return Point(self.x-p.x, self.y-p.y)\n",
    "\n",
    "    def __add__(self, p):\n",
    "        return Point(self.x+p.x, self.y+p.y)\n",
    "\n",
    "    def __mul__(self, c):\n",
    "        return Point(c*self.x, c*self.y)\n",
    "\n",
    "    def __eq__(self, p):\n",
    "        return self.x == p.x and self.y == p.y\n",
    "\n",
    "    def __ne__(self, p):\n",
    "        return not (self == p)\n",
    "    \n",
    "    def towards(self, target, t):\n",
    "        if t == 0.5:\n",
    "            return self.halfway(target)\n",
    "        else:\n",
    "            return Point((1.0-t)*self.x+t*target.x, (1.0-t)*self.y+t*target.y)\n",
    "    \n",
    "    def halfway(self, target):\n",
    "        return Point((self.x+target.x).div2(), (self.y+target.y).div2())\n",
    "\n",
    "    def compare_lex(self, p):\n",
    "        if self.x < p.x:\n",
    "            return -1\n",
    "        if self.x > p.x:\n",
    "            return 1\n",
    "        if self.y < p.y:\n",
    "            return -1\n",
    "        if self.y > p.y:\n",
    "            return 1\n",
    "        return 0\n",
    "\n",
    "    def less_lex(self, p):\n",
    "        return self.compare_lex(p) < 0\n",
    "\n",
    "    def less_eq_lex(self, p):\n",
    "        return self.compare_lex(p) <= 0\n",
    "    \n",
    "    def __repr__(self):\n",
    "        return \"Point(%s, %s)\" % (self.x, self.y)      \n",
    "\n",
    "def orientation2d(a, b, c):\n",
    "    d1 = (a.x - b.x) * (a.y - c.y)\n",
    "    d2 = (a.y - b.y) * (a.x - c.x)\n",
    "    if d1 == d2:\n",
    "        return 0\n",
    "    elif d1 > d2:\n",
    "        return 1\n",
    "    else:\n",
    "        return -1\n",
    "\n",
    "def leftTurn(a, b, c):\n",
    "    return orientation2d(a, b, c) > 0\n",
    "\n",
    "def rightTurn(a, b, c):\n",
    "    return orientation2d(a, b, c) < 0\n",
    "\n",
    "def betweenVar(a, b, c):\n",
    "    return (a.x-b.x)*(c.x-b.x)+(a.y-b.y)*(c.y-b.y)<0\n",
    "\n",
    "class Dim:\n",
    "    def __init__(self, vp):\n",
    "        self.n = len(vp)\n",
    "        self.vp = vp\n",
    "        self.isConvex = False\n",
    "        self.diam = 0\n",
    "    \n",
    "    def convexify(self):\n",
    "        pass\n",
    "\n",
    "    def diameter():\n",
    "        if self.diam == 0:\n",
    "            self.xmin = self.vp[0].x\n",
    "            self.xmax = self.xmin\n",
    "            self.ymin = self.vp[0].y\n",
    "            self.ymax = self.ymin\n",
    "            for p in self.vp:\n",
    "                if p.x < self.xmin:\n",
    "                    self.xmin = p.x\n",
    "                if p.x > self.xmax:\n",
    "                    self.xmax = p.x\n",
    "                if p.y < self.ymin:\n",
    "                    self.ymin = p.y\n",
    "                if p.y > self.ymax:\n",
    "                    self.ymax = p.y\n",
    "            self.diam = min(xmax-xmin, ymax-ymin)\n",
    "    \n",
    "\n",
    "class Bezier(Dim):\n",
    "    def __init__(self, v):\n",
    "        self.deg = len(v) - 1\n",
    "        self.cp = v\n",
    "        self.tmin = NT(0)\n",
    "        self.tmax = NT(1)\n",
    "    \n",
    "    def getPoint(self, t):\n",
    "        curr = [0]*self.deg\n",
    "        # get initial\n",
    "        for i in range(self.deg):\n",
    "            curr[i] = self.cp[i].towards(self.cp[i+1], t)\n",
    "        for i in range(self.deg-1):\n",
    "            for j in range(self.deg-1-i):\n",
    "                curr[j] = curr[j].towards(curr[j+1], t)\n",
    "        return curr[0]\n",
    "\n",
    "    def subdivision(self, t):\n",
    "        lseq = [0]*(self.deg+1)\n",
    "        rseq = [0]*(self.deg+1)\n",
    "        curr = [0.0]*self.deg\n",
    "\n",
    "        lseq[0] = self.cp[0]\n",
    "        rseq[self.deg] = self.cp[self.deg]\n",
    "        for i in range(self.deg):\n",
    "            curr[i] = self.cp[i].towards(self.cp[i+1], t)\n",
    "        for i in range(self.deg-1):\n",
    "            lseq[i+1] = curr[0]\n",
    "            rseq[self.deg-i-1] = curr[self.deg-i-1]\n",
    "            for j in range(self.deg-1-i):\n",
    "                curr[j] = curr[j].towards(curr[j+1], t)\n",
    "                lseq[self.deg] = curr[0]\n",
    "                rseq[0] = curr[0]  \n",
    "        return [lseq, rseq]\n",
    "\n",
    "def plotCP(cp):\n",
    "    x = []; y = []\n",
    "    for i in range(len(cp)):\n",
    "        x.append(cp[i].x)\n",
    "        y.append(cp[i].y)\n",
    "    plot(x, y)\n",
    "    \n",
    "def plotBezier(bezier, n):\n",
    "    eps = NT(1)/n\n",
    "    x = []\n",
    "    y = []\n",
    "    \n",
    "    t = 0\n",
    "    for i in range(n+1):\n",
    "        p = bezier.getPoint(t)\n",
    "        t = t + eps\n",
    "        x.append(p.x)\n",
    "        y.append(p.y)\n",
    "    plt.plot(x, y,color=\"b\")\n",
    "\n",
    "def pt(x, y):\n",
    "    return Point(NT(x), NT(y))\n",
    "    \n",
    "def Slp(x,y):\n",
    "    try:\n",
    "        z = (y[i+1]-y[i])/(x[i+1]-x[i])\n",
    "    except:\n",
    "        z = 0\n",
    "    return z\n",
    "def angle(x,y):\n",
    "    pass\n",
    "\n",
    "import numpy as np\n",
    "def FinalCall(x,y):\n",
    "    print(\"hi\")\n",
    "    vp=[]\n",
    "    #inp = input(\"Enter Char : \")\n",
    "    #x, y = manuscript.return_manuscript_fonts(inp)\n",
    "    #x=[1365, 1259, 1099, 443, 0, 1008, 1415]\n",
    "    #y=[1188, 1332, 1414, 1498, 439, 0, 308]\n",
    "    #print(\"x\",x,\"\\n\",\"y\",y)\n",
    "    for pnt in range(len(x)):\n",
    "        vp.append(pt(x[pnt],y[pnt]))\n",
    "    bc = Bezier(vp)\n",
    "    [left, right] = bc.subdivision(0.4)\n",
    "    zd=open(\"ab.txt\",\"a\")\n",
    "    for yu in left:\n",
    "        zd.write(str(yu))\n",
    "    for zx in right:\n",
    "        zd.write(str(zx))\n",
    "    zd.close()\n",
    "    # plot left\n",
    "    plotBezier(Bezier(left), 100)\n",
    "    \n",
    "    # plot left\n",
    "    plotBezier(Bezier(right), 100)\n",
    "    plt.plot(x1x,x1y)\n",
    "    plt.show()\n",
    "# Get angle of three lines\n",
    "######################################################################################################################\n",
    "def angle():\n",
    "    import numpy as np\n",
    "    def ang(pt1x,pt1y,pt2x,pt2y,pt3x,pt3y):\n",
    "        a = np.array([pt1x,pt1y])\n",
    "        b = np.array([pt2x,pt2y])\n",
    "        c = np.array([pt3x,pt3y])\n",
    "\n",
    "        ba = a - b\n",
    "        bc = c - b\n",
    "\n",
    "        cosine_angle = np.dot(ba, bc) / (np.linalg.norm(ba) * np.linalg.norm(bc))\n",
    "        angle = np.arccos(cosine_angle)\n",
    "        return np.degrees(angle)\n",
    "    inp = input(\"Enter Char : \")\n",
    "    x, y = manuscript.return_manuscript_fonts(inp)\n",
    "    lnt=len(x)\n",
    "    i=0\n",
    "    x1x=[]\n",
    "    x1y=[]\n",
    "    x2x=[]\n",
    "    x2y=[]\n",
    "    print(\"*\"*60)\n",
    "    while True:\n",
    "        if i==(lnt-2):\n",
    "            break\n",
    "        else:\n",
    "            pt1x=x[i]\n",
    "            pt1y=y[i]\n",
    "            pt2x=x[i+1]\n",
    "            pt2y=y[i+1]\n",
    "            pt3x=x[i+2]\n",
    "            pt3y=y[i+2]\n",
    "            print(ang(pt1x,pt1y,pt2x,pt2y,pt3x,pt3y))\n",
    "            z= ang(pt1x,pt1y,pt2x,pt2y,pt3x,pt3y)\n",
    "            if z<=90.0:\n",
    "                print(z)\n",
    "                print(pt1x,pt1y,\"\\n\",pt2x,pt2y,\"\\n\",pt3x,pt3y)\n",
    "                x1x.append(pt1x)\n",
    "                x1x.append(pt2x)\n",
    "                x1x.append(pt3x)\n",
    "                x1y.append(pt1y)\n",
    "                x1y.append(pt2y)\n",
    "                x1y.append(pt3y)\n",
    "            else:\n",
    "                x2x.append(pt1x)\n",
    "                x2x.append(pt2x)\n",
    "                x2x.append(pt3x)\n",
    "                x2y.append(pt1y)\n",
    "                x2y.append(pt2y)\n",
    "                x2y.append(pt3y)\n",
    "            i+=1\n",
    "    #plt.plot(x1x,x1y)\n",
    "    #plt.plot(x2x,x2y)\n",
    "    #print(\"*\"*60)\n",
    "    return x1x,x1y,x2x,x2y\n",
    "'''if __name__ == '__main__':\n",
    "    x1x,x1y,x2x,x2y=angle()\n",
    "    print(\"x1x\",x1x,\"x1y\",x1y,\"x2x\",x2x,\"x2y\",x2y)\n",
    "    plt.plot(x1x,x1y)\n",
    "    FinalCall(x2x,x2y)\n",
    "    plt.show()\n",
    "    "
   ]
  },
  {
   "cell_type": "code",
   "execution_count": 16,
   "metadata": {},
   "outputs": [
    {
     "data": {
      "text/plain": [
       "'if __name__ == \\'__main__\\':\\n    x1x,x1y,x2x,x2y=angle()\\n    print(\"x1x\",x1x,\"x1y\",x1y,\"x2x\",x2x,\"x2y\",x2y)\\n    plt.plot(x1x,x1y)\\n    FinalCall(x2x,x2y)\\n    plt.show()'"
      ]
     },
     "execution_count": 16,
     "metadata": {},
     "output_type": "execute_result"
    },
    {
     "data": {
      "text/plain": [
       "<Figure size 360x360 with 0 Axes>"
      ]
     },
     "metadata": {},
     "output_type": "display_data"
    }
   ],
   "source": [
    "from math import *\n",
    "NT = float\n",
    "from SW import manuscript\n",
    "import matplotlib.pyplot as plt\n",
    "import numpy as np\n",
    "import pandas as pd\n",
    "import cur\n",
    "plt.figure(figsize=[5,5])\n",
    "\n",
    "# class Point\n",
    "class Point:\n",
    "    def __init__(self, x = 0.0, y = 0.0):\n",
    "        self.x = x\n",
    "        self.y = y\n",
    "    \n",
    "    def distance(self, p):\n",
    "        return sqrt((p.x-self.x)*(p.x-self.x)+(p.y-self.y)*(p.y-self.y))\n",
    "\n",
    "    def length(self):\n",
    "        return self.distance(Point(NT(0), NT(0)))\n",
    "\n",
    "    def __sub__(self, p):\n",
    "        return Point(self.x-p.x, self.y-p.y)\n",
    "\n",
    "    def __add__(self, p):\n",
    "        return Point(self.x+p.x, self.y+p.y)\n",
    "\n",
    "    def __mul__(self, c):\n",
    "        return Point(c*self.x, c*self.y)\n",
    "\n",
    "    def __eq__(self, p):\n",
    "        return self.x == p.x and self.y == p.y\n",
    "\n",
    "    def __ne__(self, p):\n",
    "        return not (self == p)\n",
    "    \n",
    "    def towards(self, target, t):\n",
    "        if t == 0.5:\n",
    "            return self.halfway(target)\n",
    "        else:\n",
    "            return Point((1.0-t)*self.x+t*target.x, (1.0-t)*self.y+t*target.y)\n",
    "    \n",
    "    def halfway(self, target):\n",
    "        return Point((self.x+target.x).div2(), (self.y+target.y).div2())\n",
    "\n",
    "    def compare_lex(self, p):\n",
    "        if self.x < p.x:\n",
    "            return -1\n",
    "        if self.x > p.x:\n",
    "            return 1\n",
    "        if self.y < p.y:\n",
    "            return -1\n",
    "        if self.y > p.y:\n",
    "            return 1\n",
    "        return 0\n",
    "\n",
    "    def less_lex(self, p):\n",
    "        return self.compare_lex(p) < 0\n",
    "\n",
    "    def less_eq_lex(self, p):\n",
    "        return self.compare_lex(p) <= 0\n",
    "    \n",
    "    def __repr__(self):\n",
    "        return \"Point(%s, %s)\" % (self.x, self.y)      \n",
    "\n",
    "def orientation2d(a, b, c):\n",
    "    d1 = (a.x - b.x) * (a.y - c.y)\n",
    "    d2 = (a.y - b.y) * (a.x - c.x)\n",
    "    if d1 == d2:\n",
    "        return 0\n",
    "    elif d1 > d2:\n",
    "        return 1\n",
    "    else:\n",
    "        return -1\n",
    "\n",
    "def leftTurn(a, b, c):\n",
    "    return orientation2d(a, b, c) > 0\n",
    "\n",
    "def rightTurn(a, b, c):\n",
    "    return orientation2d(a, b, c) < 0\n",
    "\n",
    "def betweenVar(a, b, c):\n",
    "    return (a.x-b.x)*(c.x-b.x)+(a.y-b.y)*(c.y-b.y)<0\n",
    "\n",
    "class Dim:\n",
    "    def __init__(self, vp):\n",
    "        self.n = len(vp)\n",
    "        self.vp = vp\n",
    "        self.isConvex = False\n",
    "        self.diam = 0\n",
    "    \n",
    "    def convexify(self):\n",
    "        pass\n",
    "\n",
    "    def diameter():\n",
    "        if self.diam == 0:\n",
    "            self.xmin = self.vp[0].x\n",
    "            self.xmax = self.xmin\n",
    "            self.ymin = self.vp[0].y\n",
    "            self.ymax = self.ymin\n",
    "            for p in self.vp:\n",
    "                if p.x < self.xmin:\n",
    "                    self.xmin = p.x\n",
    "                if p.x > self.xmax:\n",
    "                    self.xmax = p.x\n",
    "                if p.y < self.ymin:\n",
    "                    self.ymin = p.y\n",
    "                if p.y > self.ymax:\n",
    "                    self.ymax = p.y\n",
    "            self.diam = min(xmax-xmin, ymax-ymin)\n",
    "    \n",
    "\n",
    "class Bezier(Dim):\n",
    "    def __init__(self, v):\n",
    "        self.deg = len(v) - 1\n",
    "        self.cp = v\n",
    "        self.tmin = NT(0)\n",
    "        self.tmax = NT(1)\n",
    "    \n",
    "    def getPoint(self, t):\n",
    "        curr = [0]*self.deg\n",
    "        # get initial\n",
    "        for i in range(self.deg):\n",
    "            curr[i] = self.cp[i].towards(self.cp[i+1], t)\n",
    "        for i in range(self.deg-1):\n",
    "            for j in range(self.deg-1-i):\n",
    "                curr[j] = curr[j].towards(curr[j+1], t)\n",
    "        return curr[0]\n",
    "\n",
    "    def subdivision(self, t):\n",
    "        lseq = [0]*(self.deg+1)\n",
    "        rseq = [0]*(self.deg+1)\n",
    "        curr = [0.0]*self.deg\n",
    "\n",
    "        lseq[0] = self.cp[0]\n",
    "        rseq[self.deg] = self.cp[self.deg]\n",
    "        for i in range(self.deg):\n",
    "            curr[i] = self.cp[i].towards(self.cp[i+1], t)\n",
    "        for i in range(self.deg-1):\n",
    "            lseq[i+1] = curr[0]\n",
    "            rseq[self.deg-i-1] = curr[self.deg-i-1]\n",
    "            for j in range(self.deg-1-i):\n",
    "                curr[j] = curr[j].towards(curr[j+1], t)\n",
    "                lseq[self.deg] = curr[0]\n",
    "                rseq[0] = curr[0]  \n",
    "        return [lseq, rseq]\n",
    "\n",
    "def plotCP(cp):\n",
    "    x = []; y = []\n",
    "    for i in range(len(cp)):\n",
    "        x.append(cp[i].x)\n",
    "        y.append(cp[i].y)\n",
    "    plot(x, y)\n",
    "    \n",
    "def plotBezier(bezier, n):\n",
    "    eps = NT(1)/n\n",
    "    x = []\n",
    "    y = []\n",
    "    \n",
    "    t = 0\n",
    "    for i in range(n+1):\n",
    "        p = bezier.getPoint(t)\n",
    "        t = t + eps\n",
    "        x.append(p.x)\n",
    "        y.append(p.y)\n",
    "    plt.plot(x, y,color=\"b\")\n",
    "\n",
    "def pt(x, y):\n",
    "    return Point(NT(x), NT(y))\n",
    "    \n",
    "def Slp(x,y):\n",
    "    try:\n",
    "        z = (y[i+1]-y[i])/(x[i+1]-x[i])\n",
    "    except:\n",
    "        z = 0\n",
    "    return z\n",
    "def angle(x,y):\n",
    "    pass\n",
    "\n",
    "import numpy as np\n",
    "def FinalCall(x,y):\n",
    "    print(\"hi\")\n",
    "    vp=[]\n",
    "    #inp = input(\"Enter Char : \")\n",
    "    #x, y = manuscript.return_manuscript_fonts(inp)\n",
    "    #x=[1365, 1259, 1099, 443, 0, 1008, 1415]\n",
    "    #y=[1188, 1332, 1414, 1498, 439, 0, 308]\n",
    "    #print(\"x\",x,\"\\n\",\"y\",y)\n",
    "    zd=open(\"ab.txt\",\"a\")\n",
    "    for pnt in range(len(x)):\n",
    "        vp.append(pt(x[pnt],y[pnt]))\n",
    "    bc = Bezier(vp)\n",
    "    [left, right] = bc.subdivision(0.4)\n",
    "    for yu in left:\n",
    "        zd.write(str(yu))\n",
    "    for zx in right:\n",
    "        zd.write(str(zx))\n",
    "    zd.close()\n",
    "    # plot left\n",
    "    plotBezier(Bezier(left), 100)\n",
    "    \n",
    "    # plot left\n",
    "    plotBezier(Bezier(right), 100)\n",
    "    plt.plot(x1x,x1y)\n",
    "    #plt.show()\n",
    "# Get angle of three lines\n",
    "######################################################################################################################\n",
    "def angle():\n",
    "    import numpy as np\n",
    "    def ang(pt1x,pt1y,pt2x,pt2y,pt3x,pt3y):\n",
    "        a = np.array([pt1x,pt1y])\n",
    "        b = np.array([pt2x,pt2y])\n",
    "        c = np.array([pt3x,pt3y])\n",
    "\n",
    "        ba = a - b\n",
    "        bc = c - b\n",
    "\n",
    "        cosine_angle = np.dot(ba, bc) / (np.linalg.norm(ba) * np.linalg.norm(bc))\n",
    "        angle = np.arccos(cosine_angle)\n",
    "        return np.degrees(angle)\n",
    "    #inp = input(\"Enter Char : \")\n",
    "    x, y = manuscript.return_manuscript_fonts(inp)\n",
    "    lnt=len(x)\n",
    "    i=0\n",
    "    x1x=[]\n",
    "    x1y=[]\n",
    "    x2x=[]\n",
    "    x2y=[]\n",
    "    print(\"*\"*60)\n",
    "    while True:\n",
    "        if i==(lnt+1):\n",
    "            break\n",
    "        else:\n",
    "            pt1x=x[i]\n",
    "            pt1y=y[i]\n",
    "            pt2x=x[i+1]\n",
    "            pt2y=y[i+1]\n",
    "            pt3x=x[i+2]\n",
    "            pt3y=y[i+2]\n",
    "            i=i+2\n",
    "            print(ang(pt1x,pt1y,pt2x,pt2y,pt3x,pt3y))\n",
    "            z= ang(pt1x,pt1y,pt2x,pt2y,pt3x,pt3y)\n",
    "            if z<=90.0: \n",
    "                print(z)\n",
    "                print(pt1x,pt1y,\"\\n\",pt2x,pt2y,\"\\n\",pt3x,pt3y)\n",
    "                x1x.append(pt1x)\n",
    "                x1x.append(pt2x)\n",
    "                x1x.append(pt3x)\n",
    "                x1y.append(pt1y)\n",
    "                x1y.append(pt2y)\n",
    "                x1y.append(pt3y)\n",
    "            else:\n",
    "                x2x.append(pt1x)\n",
    "                x2x.append(pt2x)\n",
    "                x2x.append(pt3x)\n",
    "                x2y.append(pt1y)\n",
    "                x2y.append(pt2y)\n",
    "                x2y.append(pt3y)\n",
    "            i+=1\n",
    "    #plt.plot(x1x,x1y)\n",
    "    #plt.plot(x2x,x2y)\n",
    "    #print(\"*\"*60)\n",
    "    return x1x,x1y,x2x,x2y\n",
    "'''if __name__ == '__main__':\n",
    "    x1x,x1y,x2x,x2y=angle()\n",
    "    print(\"x1x\",x1x,\"x1y\",x1y,\"x2x\",x2x,\"x2y\",x2y)\n",
    "    plt.plot(x1x,x1y)\n",
    "    FinalCall(x2x,x2y)\n",
    "    plt.show()'''"
   ]
  },
  {
   "cell_type": "code",
   "execution_count": 35,
   "metadata": {
    "scrolled": true
   },
   "outputs": [
    {
     "name": "stdout",
     "output_type": "stream",
     "text": [
      "Enter Char : g\n",
      "x>>  [[754, 746, 527, 377, 222, 0, 0, 0, 222, 377, 526, 746, 753], [158, 158, 333, 457, 581, 757, 757, 757]] y>>  [[356, 207, 0, 0, 0, 220, 375, 529, 749, 749, 749, 543, 394], [-445, -569, -747, -747, -747, -569, -445, 748]]\n",
      "hi\n",
      "hi\n"
     ]
    },
    {
     "data": {
      "image/png": "[encoded data removed]",
      "text/plain": [
       "<Figure size 432x288 with 1 Axes>"
      ]
     },
     "metadata": {
      "needs_background": "light"
     },
     "output_type": "display_data"
    }
   ],
   "source": [
    "from SW import manuscript\n",
    "import matplotlib.pyplot as plt\n",
    "inp= input(\"Enter Char : \")\n",
    "x,y= manuscript.return_manuscript_fonts(inp)\n",
    "print(\"x>> \",x,\"y>> \",y)\n",
    "for i in range(len(x)):\n",
    "    FinalCall(x[i],y[i])\n",
    "plt.show()\n",
    "#FinalCall(x,y)"
   ]
  },
  {
   "cell_type": "code",
   "execution_count": 40,
   "metadata": {},
   "outputs": [
    {
     "name": "stdout",
     "output_type": "stream",
     "text": [
      "Enter Char : g\n",
      "x>>  [[754, 746, 527, 377, 222, 0, 0, 0, 222, 377, 526, 746, 753], [158, 158, 333, 457, 581, 757, 757, 757]] \n",
      " y>>  [[356, 207, 0, 0, 0, 220, 375, 529, 749, 749, 749, 543, 394], [-445, -569, -747, -747, -747, -569, -445, 748]]\n"
     ]
    }
   ],
   "source": [
    "from SW import manuscript\n",
    "import matplotlib.pyplot as plt\n",
    "inp= input(\"Enter Char : \")\n",
    "x,y= manuscript.return_manuscript_fonts(inp)\n",
    "print(\"x>> \",x,\"\\n\",\"y>> \",y)"
   ]
  },
  {
   "cell_type": "code",
   "execution_count": 1,
   "metadata": {},
   "outputs": [
    {
     "ename": "NameError",
     "evalue": "name 'x' is not defined",
     "output_type": "error",
     "traceback": [
      "\u001b[1;31m---------------------------------------------------------------------------\u001b[0m",
      "\u001b[1;31mNameError\u001b[0m                                 Traceback (most recent call last)",
      "\u001b[1;32m<ipython-input-1-49bca62d9a2e>\u001b[0m in \u001b[0;36m<module>\u001b[1;34m\u001b[0m\n\u001b[0;32m     11\u001b[0m     \u001b[1;32mreturn\u001b[0m\u001b[1;33m(\u001b[0m\u001b[1;33m{\u001b[0m\u001b[0mnp\u001b[0m\u001b[1;33m.\u001b[0m\u001b[0mdegrees\u001b[0m\u001b[1;33m(\u001b[0m\u001b[0mangle\u001b[0m\u001b[1;33m)\u001b[0m\u001b[1;33m:\u001b[0m\u001b[1;33m{\u001b[0m\u001b[1;34m'x'\u001b[0m\u001b[1;33m:\u001b[0m\u001b[1;33m[\u001b[0m\u001b[0mx1x\u001b[0m\u001b[1;33m,\u001b[0m\u001b[0mx2x\u001b[0m\u001b[1;33m,\u001b[0m\u001b[0mx3x\u001b[0m\u001b[1;33m]\u001b[0m\u001b[1;33m,\u001b[0m\u001b[1;34m\"y\"\u001b[0m\u001b[1;33m:\u001b[0m\u001b[1;33m[\u001b[0m\u001b[0mx1y\u001b[0m\u001b[1;33m,\u001b[0m\u001b[0mx2y\u001b[0m\u001b[1;33m,\u001b[0m\u001b[0mx3y\u001b[0m\u001b[1;33m]\u001b[0m\u001b[1;33m}\u001b[0m\u001b[1;33m}\u001b[0m\u001b[1;33m)\u001b[0m\u001b[1;33m\u001b[0m\u001b[1;33m\u001b[0m\u001b[0m\n\u001b[0;32m     12\u001b[0m \u001b[0mxy\u001b[0m\u001b[1;33m=\u001b[0m\u001b[1;33m[\u001b[0m\u001b[1;33m]\u001b[0m\u001b[1;33m\u001b[0m\u001b[1;33m\u001b[0m\u001b[0m\n\u001b[1;32m---> 13\u001b[1;33m \u001b[1;32mfor\u001b[0m \u001b[0mi\u001b[0m \u001b[1;32min\u001b[0m \u001b[0mrange\u001b[0m\u001b[1;33m(\u001b[0m\u001b[0mlen\u001b[0m\u001b[1;33m(\u001b[0m\u001b[0mx\u001b[0m\u001b[1;33m)\u001b[0m\u001b[1;33m)\u001b[0m\u001b[1;33m:\u001b[0m\u001b[1;33m\u001b[0m\u001b[1;33m\u001b[0m\u001b[0m\n\u001b[0m\u001b[0;32m     14\u001b[0m     \u001b[0myz\u001b[0m\u001b[1;33m=\u001b[0m\u001b[1;33m[\u001b[0m\u001b[1;33m]\u001b[0m\u001b[1;33m\u001b[0m\u001b[1;33m\u001b[0m\u001b[0m\n\u001b[0;32m     15\u001b[0m     \u001b[1;32mfor\u001b[0m \u001b[0mj\u001b[0m \u001b[1;32min\u001b[0m \u001b[0mrange\u001b[0m\u001b[1;33m(\u001b[0m\u001b[0mlen\u001b[0m\u001b[1;33m(\u001b[0m\u001b[0mx\u001b[0m\u001b[1;33m[\u001b[0m\u001b[0mi\u001b[0m\u001b[1;33m]\u001b[0m\u001b[1;33m)\u001b[0m\u001b[1;33m-\u001b[0m\u001b[1;36m2\u001b[0m\u001b[1;33m)\u001b[0m\u001b[1;33m:\u001b[0m\u001b[1;33m\u001b[0m\u001b[1;33m\u001b[0m\u001b[0m\n",
      "\u001b[1;31mNameError\u001b[0m: name 'x' is not defined"
     ]
    }
   ],
   "source": [
    "import numpy as np\n",
    "def ang(x1x,x1y,x2x,x2y,x3x,x3y):\n",
    "    global q\n",
    "    a=np.array([x1x,x1y])\n",
    "    b=np.array([x2x,x2y])\n",
    "    c=np.array([x3x,x3y])\n",
    "    ba = a - b\n",
    "    bc = c - b\n",
    "    cosine_angle = np.dot(ba, bc) / (np.linalg.norm(ba) * np.linalg.norm(bc))\n",
    "    angle = np.arccos(cosine_angle)\n",
    "    return({np.degrees(angle):{'x':[x1x,x2x,x3x],\"y\":[x1y,x2y,x3y]}})\n",
    "xy=[]\n",
    "for i in range(len(x)):\n",
    "    yz=[]\n",
    "    for j in range(len(x[i])-2): \n",
    "        zx=ang(x[i][j],y[i][j],x[i][j+1],y[i][j+1],x[i][j+2],y[i][j+2])\n",
    "        print(zx)\n",
    "        if list(zx.keys())[0]==180.0 or list(zx.keys())[0]<=90.0:\n",
    "            plt.plot(list(zx.values())[0][\"x\"],list(zx.values())[0][\"y\"],\"r\")\n",
    "        else:\n",
    "            FinalCall(list(zx.values())[0][\"x\"],list(zx.values())[0][\"y\"])\n",
    "plt.show()"
   ]
  },
  {
   "cell_type": "code",
   "execution_count": 3,
   "metadata": {},
   "outputs": [],
   "source": [
    "import bezier\n",
    "import numpy as np\n",
    "import matplotlib.pyplot as plt"
   ]
  },
  {
   "cell_type": "code",
   "execution_count": 7,
   "metadata": {},
   "outputs": [
    {
     "name": "stdout",
     "output_type": "stream",
     "text": [
      "Enter Char : h\n",
      "x>>  [[0, 0], [595, 595, 595, 420, 296, 172, 0, 0]]\n",
      "y>>  [[0, 1500], [0, 450, 575, 752, 752, 752, 576, 452]]\n"
     ]
    },
    {
     "data": {
      "image/png": "[encoded data removed]",
      "text/plain": [
       "<Figure size 432x288 with 1 Axes>"
      ]
     },
     "metadata": {
      "needs_background": "light"
     },
     "output_type": "display_data"
    }
   ],
   "source": [
    "from SW import manuscript\n",
    "import matplotlib.pyplot as plt\n",
    "inp= input(\"Enter Char : \")\n",
    "x,y= manuscript.return_manuscript_fonts(inp)\n",
    "print(\"x>> \",x)\n",
    "print(\"y>> \",y)\n",
    "for i in range(len(x)):\n",
    "    plt.plot(x[i],y[i])\n",
    "    plt.plot(x[i],y[i],\"or\")\n",
    "plt.show()"
   ]
  },
  {
   "cell_type": "code",
   "execution_count": 14,
   "metadata": {
    "scrolled": false
   },
   "outputs": [
    {
     "name": "stdout",
     "output_type": "stream",
     "text": [
      "Enter Char : g\n"
     ]
    }
   ],
   "source": [
    "from SW import manuscript\n",
    "import matplotlib.pyplot as plt\n",
    "inp= input(\"Enter Char : \")\n",
    "x,y= manuscript.return_manuscript_fonts(inp)\n",
    "nodes = np.asarray([x[0],y[0]],dtype=np.double)\n",
    "curve = bezier.Curve(nodes,degree=2)\n",
    "# curve.plot(num_pts=100)\n",
    "# plt.show()"
   ]
  },
  {
   "cell_type": "code",
   "execution_count": 32,
   "metadata": {},
   "outputs": [
    {
     "name": "stdout",
     "output_type": "stream",
     "text": [
      "<Curve (degree=2, dimension=2)>\n",
      "AxesSubplot(0.125,0.125;0.775x0.755)\n",
      "<Curve (degree=2, dimension=2)>\n",
      "AxesSubplot(0.125,0.125;0.775x0.755)\n"
     ]
    },
    {
     "data": {
      "text/plain": [
       "<Figure size 432x288 with 0 Axes>"
      ]
     },
     "metadata": {},
     "output_type": "display_data"
    },
    {
     "data": {
      "image/png": "[encoded data removed]",
      "text/plain": [
       "<Figure size 432x288 with 1 Axes>"
      ]
     },
     "metadata": {
      "needs_background": "light"
     },
     "output_type": "display_data"
    },
    {
     "data": {
      "image/png": "[encoded data removed]",
      "text/plain": [
       "<Figure size 432x288 with 1 Axes>"
      ]
     },
     "metadata": {
      "needs_background": "light"
     },
     "output_type": "display_data"
    }
   ],
   "source": [
    "fig=plt.figure()\n",
    "if type(x[0]) is list:\n",
    "    for ik in range(len(x)):\n",
    "        nodes = np.asarray([x[ik],y[ik]],dtype=np.double)\n",
    "        curve = bezier.Curve(nodes,degree=2)\n",
    "        curve.\n",
    "        print(curve)\n",
    "        zx=curve.plot(num_pts=100)\n",
    "        print(zx)"
   ]
  },
  {
   "cell_type": "code",
   "execution_count": 34,
   "metadata": {
    "scrolled": true
   },
   "outputs": [
    {
     "data": {
      "text/plain": [
       "[<matplotlib.lines.Line2D at 0x92c2430>]"
      ]
     },
     "execution_count": 34,
     "metadata": {},
     "output_type": "execute_result"
    },
    {
     "data": {
      "image/png": "[encoded data removed]",
      "text/plain": [
       "<Figure size 432x288 with 1 Axes>"
      ]
     },
     "metadata": {
      "needs_background": "light"
     },
     "output_type": "display_data"
    }
   ],
   "source": [
    "plt.plot(x[0],y[0])"
   ]
  },
  {
   "cell_type": "code",
   "execution_count": 38,
   "metadata": {
    "scrolled": false
   },
   "outputs": [
    {
     "data": {
      "image/png": "[encoded data removed]",
      "text/plain": [
       "<Figure size 432x288 with 1 Axes>"
      ]
     },
     "metadata": {
      "needs_background": "light"
     },
     "output_type": "display_data"
    }
   ],
   "source": [
    " x = [[0, 0, 176, 300, 423, 599, 599, 599], [570, 559, 559], [598, 582, 570], [570, 582, 598], [559, 559, 570],\n",
    "[625, 613, 598], [638, 638, 625], [629, 638, 638], [598, 617, 629]]\n",
    "y = [[-445, -569, -747, -747, -747, -569, -445, 748], [1055, 1067, 1083], [1043, 1043, 1055], [1112, 1123, 1123],\n",
    "[1083, 1100, 1112], [1054, 1043, 1043], [1083, 1066, 1054], [1108, 1097, 1083], [1123, 1123, 1108]]\n",
    "for km in range(len(x)):\n",
    "    plt.plot(x[km],y[km])"
   ]
  },
  {
   "cell_type": "code",
   "execution_count": 38,
   "metadata": {},
   "outputs": [
    {
     "name": "stdout",
     "output_type": "stream",
     "text": [
      "you pressed b\n",
      "you pressed j\n",
      "you pressed j\n",
      "you pressed b\n",
      "you pressed j\n",
      "you pressed b\n",
      "you pressed j\n",
      "you pressed b\n"
     ]
    }
   ],
   "source": [
    "import tkinter\n",
    "\n",
    "from matplotlib.backends.backend_tkagg import (\n",
    "    FigureCanvasTkAgg, NavigationToolbar2Tk)\n",
    "# Implement the default Matplotlib key bindings.\n",
    "from matplotlib.backend_bases import key_press_handler\n",
    "from matplotlib.figure import Figure\n",
    "\n",
    "import numpy as np\n",
    "\n",
    "\n",
    "root = tkinter.Tk()\n",
    "root.wm_title(\"Embedding in Tk\")\n",
    "\n",
    "fig = Figure(figsize=(5, 4), dpi=100)\n",
    "t = np.arange(0, 3, .01)\n",
    "fig.add_subplot(111).plot(t, 2 * np.sin(2 * np.pi * t))\n",
    "\n",
    "canvas = FigureCanvasTkAgg(fig, master=root)  # A tk.DrawingArea.\n",
    "canvas.draw()\n",
    "canvas.get_tk_widget().pack(side=tkinter.TOP, fill=tkinter.BOTH, expand=1)\n",
    "\n",
    "toolbar = NavigationToolbar2Tk(canvas, root)\n",
    "toolbar.update()\n",
    "canvas.get_tk_widget().pack(side=tkinter.TOP, fill=tkinter.BOTH, expand=1)\n",
    "\n",
    "\n",
    "def on_key_press(event):\n",
    "    print(\"you pressed {}\".format(event.key))\n",
    "    key_press_handler(event, canvas, toolbar)\n",
    "\n",
    "\n",
    "canvas.mpl_connect(\"key_press_event\", on_key_press)\n",
    "\n",
    "\n",
    "def _quit():\n",
    "    root.quit()     # stops mainloop\n",
    "    root.destroy()  # this is necessary on Windows to prevent\n",
    "                    # Fatal Python Error: PyEval_RestoreThread: NULL tstate\n",
    "\n",
    "\n",
    "button = tkinter.Button(master=root, text=\"Quit\", command=_quit)\n",
    "button.pack(side=tkinter.BOTTOM)\n",
    "\n",
    "tkinter.mainloop()\n",
    "#"
   ]
  },
  {
   "cell_type": "code",
   "execution_count": 37,
   "metadata": {},
   "outputs": [
    {
     "ename": "AttributeError",
     "evalue": "'int' object has no attribute 'x'",
     "output_type": "error",
     "traceback": [
      "\u001b[1;31m---------------------------------------------------------------------------\u001b[0m",
      "\u001b[1;31mAttributeError\u001b[0m                            Traceback (most recent call last)",
      "\u001b[1;32m<ipython-input-37-5f7708a086b7>\u001b[0m in \u001b[0;36m<module>\u001b[1;34m\u001b[0m\n\u001b[0;32m      2\u001b[0m     \u001b[0mx\u001b[0m\u001b[1;33m=\u001b[0m\u001b[1;36m5\u001b[0m\u001b[1;33m\u001b[0m\u001b[1;33m\u001b[0m\u001b[0m\n\u001b[0;32m      3\u001b[0m     \u001b[1;32mreturn\u001b[0m \u001b[1;33m(\u001b[0m\u001b[0ma\u001b[0m\u001b[1;33m.\u001b[0m\u001b[0mx\u001b[0m\u001b[1;33m-\u001b[0m\u001b[0mb\u001b[0m\u001b[1;33m.\u001b[0m\u001b[0mx\u001b[0m\u001b[1;33m)\u001b[0m\u001b[1;33m*\u001b[0m\u001b[1;33m(\u001b[0m\u001b[0mc\u001b[0m\u001b[1;33m.\u001b[0m\u001b[0mx\u001b[0m\u001b[1;33m-\u001b[0m\u001b[0mb\u001b[0m\u001b[1;33m.\u001b[0m\u001b[0mx\u001b[0m\u001b[1;33m)\u001b[0m\u001b[1;33m+\u001b[0m\u001b[1;33m(\u001b[0m\u001b[0ma\u001b[0m\u001b[1;33m.\u001b[0m\u001b[0my\u001b[0m\u001b[1;33m-\u001b[0m\u001b[0mb\u001b[0m\u001b[1;33m.\u001b[0m\u001b[0my\u001b[0m\u001b[1;33m)\u001b[0m\u001b[1;33m*\u001b[0m\u001b[1;33m(\u001b[0m\u001b[0mc\u001b[0m\u001b[1;33m.\u001b[0m\u001b[0my\u001b[0m\u001b[1;33m-\u001b[0m\u001b[0mb\u001b[0m\u001b[1;33m.\u001b[0m\u001b[0my\u001b[0m\u001b[1;33m)\u001b[0m\u001b[1;33m<\u001b[0m\u001b[1;36m0\u001b[0m\u001b[1;33m\u001b[0m\u001b[1;33m\u001b[0m\u001b[0m\n\u001b[1;32m----> 4\u001b[1;33m \u001b[0mprint\u001b[0m\u001b[1;33m(\u001b[0m\u001b[0mab123\u001b[0m\u001b[1;33m(\u001b[0m\u001b[1;36m1\u001b[0m\u001b[1;33m,\u001b[0m\u001b[1;36m2\u001b[0m\u001b[1;33m,\u001b[0m\u001b[1;36m3\u001b[0m\u001b[1;33m)\u001b[0m\u001b[1;33m)\u001b[0m\u001b[1;33m\u001b[0m\u001b[1;33m\u001b[0m\u001b[0m\n\u001b[0m",
      "\u001b[1;32m<ipython-input-37-5f7708a086b7>\u001b[0m in \u001b[0;36mab123\u001b[1;34m(a, b, c)\u001b[0m\n\u001b[0;32m      1\u001b[0m \u001b[1;32mdef\u001b[0m \u001b[0mab123\u001b[0m\u001b[1;33m(\u001b[0m\u001b[0ma\u001b[0m\u001b[1;33m,\u001b[0m \u001b[0mb\u001b[0m\u001b[1;33m,\u001b[0m \u001b[0mc\u001b[0m\u001b[1;33m)\u001b[0m\u001b[1;33m:\u001b[0m\u001b[1;33m\u001b[0m\u001b[1;33m\u001b[0m\u001b[0m\n\u001b[0;32m      2\u001b[0m     \u001b[0mx\u001b[0m\u001b[1;33m=\u001b[0m\u001b[1;36m5\u001b[0m\u001b[1;33m\u001b[0m\u001b[1;33m\u001b[0m\u001b[0m\n\u001b[1;32m----> 3\u001b[1;33m     \u001b[1;32mreturn\u001b[0m \u001b[1;33m(\u001b[0m\u001b[0ma\u001b[0m\u001b[1;33m.\u001b[0m\u001b[0mx\u001b[0m\u001b[1;33m-\u001b[0m\u001b[0mb\u001b[0m\u001b[1;33m.\u001b[0m\u001b[0mx\u001b[0m\u001b[1;33m)\u001b[0m\u001b[1;33m*\u001b[0m\u001b[1;33m(\u001b[0m\u001b[0mc\u001b[0m\u001b[1;33m.\u001b[0m\u001b[0mx\u001b[0m\u001b[1;33m-\u001b[0m\u001b[0mb\u001b[0m\u001b[1;33m.\u001b[0m\u001b[0mx\u001b[0m\u001b[1;33m)\u001b[0m\u001b[1;33m+\u001b[0m\u001b[1;33m(\u001b[0m\u001b[0ma\u001b[0m\u001b[1;33m.\u001b[0m\u001b[0my\u001b[0m\u001b[1;33m-\u001b[0m\u001b[0mb\u001b[0m\u001b[1;33m.\u001b[0m\u001b[0my\u001b[0m\u001b[1;33m)\u001b[0m\u001b[1;33m*\u001b[0m\u001b[1;33m(\u001b[0m\u001b[0mc\u001b[0m\u001b[1;33m.\u001b[0m\u001b[0my\u001b[0m\u001b[1;33m-\u001b[0m\u001b[0mb\u001b[0m\u001b[1;33m.\u001b[0m\u001b[0my\u001b[0m\u001b[1;33m)\u001b[0m\u001b[1;33m<\u001b[0m\u001b[1;36m0\u001b[0m\u001b[1;33m\u001b[0m\u001b[1;33m\u001b[0m\u001b[0m\n\u001b[0m\u001b[0;32m      4\u001b[0m \u001b[0mprint\u001b[0m\u001b[1;33m(\u001b[0m\u001b[0mab123\u001b[0m\u001b[1;33m(\u001b[0m\u001b[1;36m1\u001b[0m\u001b[1;33m,\u001b[0m\u001b[1;36m2\u001b[0m\u001b[1;33m,\u001b[0m\u001b[1;36m3\u001b[0m\u001b[1;33m)\u001b[0m\u001b[1;33m)\u001b[0m\u001b[1;33m\u001b[0m\u001b[1;33m\u001b[0m\u001b[0m\n",
      "\u001b[1;31mAttributeError\u001b[0m: 'int' object has no attribute 'x'"
     ]
    }
   ],
   "source": [
    "def ab123(a, b, c):\n",
    "    x=5\n",
    "    return (a.x-b.x)*(c.x-b.x)+(a.y-b.y)*(c.y-b.y)<0\n",
    "print(ab123(1,2,3))"
   ]
  }
 ],
 "metadata": {
  "kernelspec": {
   "display_name": "Python 3",
   "language": "python",
   "name": "python3"
  },
  "language_info": {
   "codemirror_mode": {
    "name": "ipython",
    "version": 3
   },
   "file_extension": ".py",
   "mimetype": "text/x-python",
   "name": "python",
   "nbconvert_exporter": "python",
   "pygments_lexer": "ipython3",
   "version": "3.7.3"
  }
 },
 "nbformat": 4,
 "nbformat_minor": 2
}
